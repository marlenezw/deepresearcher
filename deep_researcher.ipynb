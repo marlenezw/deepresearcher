{
 "cells": [
  {
   "cell_type": "code",
   "execution_count": 1,
   "metadata": {},
   "outputs": [
    {
     "data": {
      "text/plain": [
       "True"
      ]
     },
     "execution_count": 1,
     "metadata": {},
     "output_type": "execute_result"
    }
   ],
   "source": [
    "from langchain_azure_ai.chat_models import AzureAIChatCompletionsModel\n",
    "from langchain_core.messages import HumanMessage, SystemMessage\n",
    "from langgraph.graph import StateGraph, START, END\n",
    "\n",
    "from prompts import query_writer_instructions, summarizer_instructions, reflection_instructions, get_current_date, web_research_instructions\n",
    "from formatting import deduplicate_and_format_sources, format_sources\n",
    "from states import SummaryState, SummaryStateInput, SummaryStateOutput\n",
    "\n",
    "from tavily import TavilyClient\n",
    "from dotenv import load_dotenv\n",
    "import os\n",
    "import json\n",
    "\n",
    "# Load environment variables from .env file\n",
    "load_dotenv()\n"
   ]
  },
  {
   "cell_type": "code",
   "execution_count": null,
   "metadata": {},
   "outputs": [],
   "source": [
    "# initialize deeep seek model\n",
    "deep_seek_model = AzureAIChatCompletionsModel(\n",
    "    endpoint=\"https://{resource_name}.services.ai.azure.com/models\",\n",
    "    credential= os.getenv(\"AZURE_AI_API_KEY\"),\n",
    "    model_name=\"DeepSeek-R1\",\n",
    ")\n",
    "\n",
    "gpt_model = AzureAIChatCompletionsModel(\n",
    "    endpoint=\"https://{resource_name}.services.ai.azure.com/models\",\n",
    "    credential= os.getenv(\"AZURE_AI_API_KEY\"),\n",
    "    model_name=\"gpt-4o\",\n",
    ")\n",
    "\n",
    "images = []\n",
    "\n",
    "#define helper function to seperate thinking from final response \n",
    "def strip_thinking_tokens(text: str):\n",
    "    \"\"\"\n",
    "    Remove <think> and </think> tags and their content from the text.\n",
    "    \"\"\"\n",
    "    while \"<think>\" in text and \"</think>\" in text:\n",
    "        start = text.find(\"<think>\")\n",
    "        end = text.find(\"</think>\") + len(\"</think>\")\n",
    "        thoughts = text[start:end]\n",
    "        text = text[:start] + text[end:]\n",
    "    return thoughts, text"
   ]
  },
  {
   "cell_type": "markdown",
   "metadata": {},
   "source": [
    "# Nodes and Edges "
   ]
  },
  {
   "cell_type": "code",
   "execution_count": 3,
   "metadata": {},
   "outputs": [],
   "source": [
    " # step 1: generate a query to search the web for the latest info\n",
    "#use prompty here \n",
    "def generate_query(state: SummaryState):\n",
    "    # Format the prompt\n",
    "    current_date = get_current_date()\n",
    "    formatted_prompt = query_writer_instructions.format(\n",
    "        current_date=current_date,\n",
    "        research_topic=state.research_topic\n",
    "    )\n",
    "\n",
    "    messages = [\n",
    "        SystemMessage(content=formatted_prompt),\n",
    "        HumanMessage(content=f\"Generate a query for web search:\"),\n",
    "    ]\n",
    "   \n",
    "    response = gpt_model.invoke(messages)\n",
    "    query = json.loads(response.content)\n",
    "    search_query = query['query']\n",
    "    print('query generated...')\n",
    "    return {\"search_query\": search_query}"
   ]
  },
  {
   "cell_type": "code",
   "execution_count": 4,
   "metadata": {},
   "outputs": [],
   "source": [
    "# step 2: look for that info online and get the results in a specific format\n",
    "def web_research(state: SummaryState):\n",
    "\n",
    "    tavily_client = TavilyClient(api_key=os.getenv(\"TAVILY_API_KEY\"))\n",
    "    search_results = tavily_client.search(state.search_query, \n",
    "                         max_results=1, \n",
    "                         max_tokens_per_source=1000,\n",
    "                         include_raw_content=False,\n",
    "                         include_images=True)\n",
    "    for image in search_results['images']:\n",
    "        images.append(image)\n",
    " \n",
    "    # search_results = llm_with_tools.invoke(messages)\n",
    "    search_str = deduplicate_and_format_sources(search_results, max_tokens_per_source=1000)\n",
    "    print('web search completed...')\n",
    "    return {\"sources_gathered\": [format_sources(search_results)], \"research_loop_count\": state.research_loop_count + 1, \"web_research_results\": [search_str]}"
   ]
  },
  {
   "cell_type": "code",
   "execution_count": 5,
   "metadata": {},
   "outputs": [],
   "source": [
    "# step 3: summarize web research results.\n",
    "# create or update a running summary based on the newest web research \n",
    "# integrating them with any existing summary. use with a prompty to pass system message \n",
    "def summarize_sources(state: SummaryState):\n",
    "    print('summarizing...')\n",
    "    # Existing summary\n",
    "    existing_summary = state.running_summary\n",
    "\n",
    "    # Most recent web research\n",
    "    most_recent_web_research = state.web_research_results[-1]\n",
    "\n",
    "    # Build the human message\n",
    "    if existing_summary:\n",
    "        human_message_content = (\n",
    "            f\"<Existing Summary> \\n {existing_summary} \\n <Existing Summary>\\n\\n\"\n",
    "            f\"<New Context> \\n {most_recent_web_research} \\n <New Context>\"\n",
    "            f\"Update the Existing Summary with the New Context on this topic: \\n <User Input> \\n {state.research_topic} \\n <User Input>\\n\\n\"\n",
    "        )\n",
    "    else:\n",
    "        human_message_content = (\n",
    "            f\"<Context> \\n {most_recent_web_research} \\n <Context>\"\n",
    "            f\"Create a Summary using the Context on this topic: \\n <User Input> \\n {state.research_topic} \\n <User Input>\\n\\n\"\n",
    "        )\n",
    "\n",
    "\n",
    "    messages = [\n",
    "        SystemMessage(content=summarizer_instructions),\n",
    "        HumanMessage(content=human_message_content)\n",
    "    ]\n",
    "    response = gpt_model.invoke(messages)\n",
    "    running_summary = response.content\n",
    "    \n",
    "    return {\"running_summary\": running_summary}"
   ]
  },
  {
   "cell_type": "code",
   "execution_count": 9,
   "metadata": {},
   "outputs": [],
   "source": [
    "# step 4: reflect of the summary and identify areas for further research and generates\n",
    "# a new search query to address those gaps. Uses structured output to extract\n",
    "#the follow-up query in JSON format. Use prompty here too\n",
    "\n",
    "def reflect_on_summary(state: SummaryState):\n",
    "    # Use the model to analyze the summary and decide whether to continue research or finalize it\n",
    "\n",
    "    result = deep_seek_model.invoke(\n",
    "        [SystemMessage(content=reflection_instructions.format(research_topic=state.research_topic)),\n",
    "        HumanMessage(content=f\"Reflect on our existing knowledge: \\n === \\n {state.running_summary}, \\n === \\n And now identify a knowledge gap and generate a follow-up web search query:\")]\n",
    "    )\n",
    "\n",
    "    thoughts, text = strip_thinking_tokens(result.content)\n",
    "    print(thoughts)\n",
    "    try:\n",
    "        # Try to parse as JSON first\n",
    "        reflection_content = json.loads(text)\n",
    "        # Get the follow-up query\n",
    "        query = reflection_content.get('follow_up_query')\n",
    "        # Check if query is None or empty\n",
    "        if not query:\n",
    "            # Use a fallback query\n",
    "            return {\"search_query\": f\"Tell me more about {state.research_topic}\"}\n",
    "        return {\"search_query\": query}\n",
    "    except (json.JSONDecodeError, KeyError, AttributeError):\n",
    "        # If parsing fails or the key is not found, use a fallback query\n",
    "        return {\"search_query\": f\"Tell me more about {state.research_topic}\"}"
   ]
  },
  {
   "cell_type": "code",
   "execution_count": 7,
   "metadata": {},
   "outputs": [],
   "source": [
    "# step 5: finalize the summary \n",
    "def finalize_summary(state: SummaryState):\n",
    "\n",
    "    # Format the final summary with sources\n",
    "    final_summary = f\"## Summary\\n{state.running_summary}\\n\\n### Sources:\\n\"\n",
    "    for source in state.sources_gathered:\n",
    "        final_summary += f\"{source}\\n\"\n",
    "\n",
    "    # state.running_summary = f\"## Summary\\n{state.running_summary}\\n\\n ### Sources:\\n{unique_sources}\"\n",
    "    print('Done Researching...')\n",
    "    return {\"running_summary\": final_summary}"
   ]
  },
  {
   "cell_type": "code",
   "execution_count": 6,
   "metadata": {},
   "outputs": [],
   "source": [
    "#Conditional function (edge) that decided whether to continue the research\n",
    "# of finalize the summary.\n",
    "def route_research(state: SummaryState):\n",
    "    if state.research_loop_count <= 3:\n",
    "        print('researching more...')\n",
    "        return \"web_research\"\n",
    "    else:\n",
    "        print('research complete...')\n",
    "        return \"finalize_summary\""
   ]
  },
  {
   "cell_type": "code",
   "execution_count": 11,
   "metadata": {},
   "outputs": [],
   "source": [
    "# Add nodes and edges\n",
    "builder = StateGraph(SummaryState, input=SummaryStateInput, output=SummaryStateOutput)\n",
    "builder.add_node(\"generate_query\", generate_query)\n",
    "builder.add_node(\"web_research\", web_research)\n",
    "builder.add_node(\"summarize_sources\", summarize_sources)\n",
    "builder.add_node(\"reflect_on_summary\", reflect_on_summary)\n",
    "builder.add_node(\"finalize_summary\", finalize_summary)\n",
    "\n",
    "# Add edges\n",
    "builder.add_edge(START, \"generate_query\")\n",
    "builder.add_edge(\"generate_query\", \"web_research\")\n",
    "builder.add_edge(\"web_research\", \"summarize_sources\")\n",
    "builder.add_edge(\"summarize_sources\", \"reflect_on_summary\")\n",
    "builder.add_conditional_edges(\"reflect_on_summary\", route_research)\n",
    "builder.add_edge(\"finalize_summary\", END)\n",
    "\n",
    "graph = builder.compile()"
   ]
  },
  {
   "cell_type": "code",
   "execution_count": 12,
   "metadata": {},
   "outputs": [
    {
     "data": {
      "image/png": "[encoded data removed]",
      "text/plain": [
       "<IPython.core.display.Image object>"
      ]
     },
     "metadata": {},
     "output_type": "display_data"
    }
   ],
   "source": [
    "from IPython.display import Image, display\n",
    "\n",
    "display(Image(graph.get_graph().draw_mermaid_png()))"
   ]
  },
  {
   "cell_type": "code",
   "execution_count": 13,
   "metadata": {},
   "outputs": [],
   "source": [
    "def stream_graph_updates(user_input: str):\n",
    "    for event in graph.stream({\"research_topic\": user_input}):\n",
    "        if event:\n",
    "            if event.__contains__('generate_query'):\n",
    "                print(event['generate_query'])\n",
    "            elif event.__contains__('web_research'):\n",
    "                print(event['web_research'])\n",
    "            elif event.__contains__('finalize_summary'):\n",
    "                print(event['finalize_summary']['running_summary'])"
   ]
  },
  {
   "cell_type": "code",
   "execution_count": 14,
   "metadata": {},
   "outputs": [
    {
     "name": "stdout",
     "output_type": "stream",
     "text": [
      "query generated...\n",
      "{'search_query': 'best parks in London to visit during summer 2025'}\n",
      "web search completed...\n",
      "{'sources_gathered': ['* Summer in London 2025: The Ultimate Guide to Events, Parks & Student Life : https://londonist.co.uk/blogs/summer-in-london-2025-the-ultimate-guide-to-events-parks-student-life'], 'research_loop_count': 1, 'web_research_results': [\"Sources:\\n\\nSource: Summer in London 2025: The Ultimate Guide to Events, Parks & Student Life\\n===\\nURL: https://londonist.co.uk/blogs/summer-in-london-2025-the-ultimate-guide-to-events-parks-student-life\\n===\\nMost relevant content from source: Summer in London 2025: The Ultimate Guide to Events, Parks & Student Life Blog Detail Summer in London 2025: The Ultimate Guide to Events, Parks & Student Life Whether you're studying at a summer school, doing an internship, or just here for a vibey summer stay, we've got the ultimate guide to make London 2025 your best summer yet. British Summer Time Hyde Park (June-July 2025) – Live music, festival energy, and sunset vibes. Paddington Citi View – Walk to Hyde Park’s British Summer Time festival. London’s Best Parks for Summer Picnics & Chilling Student Support Awards - 2024 Shortlisted Accommodation Provider Of The Year - 2023 Shortlisted Student Support Awards - 2024 Shortlisted Accommodation Provider Of The Year - 2023 Shortlisted\\n===\"]}\n",
      "summarizing...\n",
      "<think>\n",
      "Okay, let's start by looking at the existing summary. It mentions Hyde Park as a top choice for summer in London, highlighting its events like the British Summer Time festival and proximity to Paddington Citi View. However, the summary also notes that other parks renowned for their summer ambiance and recreational spaces weren't detailed.\n",
      "\n",
      "The main knowledge gap here is the lack of specific information about other parks. The user might want to know which other parks are considered the best for summer, what unique features they offer, and how they compare to Hyde Park. For example, are there parks with specific facilities like boating lakes, outdoor theaters, or themed gardens? Also, details about accessibility, crowd levels, or seasonal events in these parks would be useful. The follow-up question should prompt a search that lists these parks and their summer-specific attractions to provide a more comprehensive guide.\n",
      "</think>\n",
      "researching more...\n",
      "web search completed...\n",
      "{'sources_gathered': ['* 9 best London parks and playgrounds to take kids during the summer holidays : https://www.mylondon.news/whats-on/family-kids-news/9-best-london-parks-playgrounds-29649999'], 'research_loop_count': 2, 'web_research_results': [\"Sources:\\n\\nSource: 9 best London parks and playgrounds to take kids during the summer holidays\\n===\\nURL: https://www.mylondon.news/whats-on/family-kids-news/9-best-london-parks-playgrounds-29649999\\n===\\nMost relevant content from source: With the summer holidays well underway, the daunting prospect of occupying bouncy children for a few more weeks looms.. Luckily, there's no shortage of free playgrounds and parks to fill those long summer days. MyLondon has rounded up some of the best across London, from a Peter Pan-themed spot with a 'real' pirate's ship, to another with pedal-powered go-karts to rent.\\n===\"]}\n",
      "summarizing...\n",
      "<think>\n",
      "Okay, let's start by looking at the existing summary about London parks for summer. The summary mentions Hyde Park's events like the British Summer Time festival and family-friendly parks with playgrounds and activities. It covers events, proximity to attractions, and amenities for kids.\n",
      "\n",
      "Hmm, what's missing here? The summary talks about events and amenities but doesn't mention anything about accessibility features. For example, are these parks equipped with facilities for people with disabilities? Things like wheelchair access, accessible restrooms, or sensory-friendly areas for children with autism. Also, transportation options to the parks—like if there are nearby tube stations with step-free access—aren't covered. This information is crucial for families or individuals with specific needs to plan their visits effectively. \n",
      "\n",
      "So the knowledge gap here is the lack of details on accessibility features and inclusive facilities. To address this, a follow-up question should ask specifically about accessibility in London's summer parks, focusing on features for disabled visitors and inclusive play areas. That way, the next search can fill in these important details.\n",
      "</think>\n",
      "researching more...\n",
      "web search completed...\n",
      "{'sources_gathered': ['* 9 best London parks and playgrounds to take kids during the summer holidays : https://www.mylondon.news/whats-on/family-kids-news/9-best-london-parks-playgrounds-29649999'], 'research_loop_count': 3, 'web_research_results': [\"Sources:\\n\\nSource: 9 best London parks and playgrounds to take kids during the summer holidays\\n===\\nURL: https://www.mylondon.news/whats-on/family-kids-news/9-best-london-parks-playgrounds-29649999\\n===\\nMost relevant content from source: With the summer holidays well underway, the daunting prospect of occupying bouncy children for a few more weeks looms.. Luckily, there's no shortage of free playgrounds and parks to fill those long summer days. MyLondon has rounded up some of the best across London, from a Peter Pan-themed spot with a 'real' pirate's ship, to another with pedal-powered go-karts to rent.\\n===\"]}\n",
      "summarizing...\n",
      "<think>\n",
      "Okay, let's start by looking at the existing summary about the best parks in London for summer. The summary mentions Hyde Park's events like the British Summer Time festival and its proximity to Paddington Citi View. It also talks about family-friendly parks with themed playgrounds, like the Peter Pan one and pedal go-karts.\n",
      "\n",
      "Now, I need to find a knowledge gap here. The summary covers events and some activities, but maybe it doesn't go into the practical details visitors would need. For example, when planning a visit, people might want to know about accessibility features. Are there parks with wheelchair-friendly paths, sensory gardens for those with autism, or baby-changing facilities? Also, the summary mentions free playgrounds, but are there any parks that require booking in advance, especially during peak times like summer festivals?\n",
      "\n",
      "Another angle is sustainability efforts. The summary doesn't mention if these parks have eco-friendly initiatives, like recycling bins, solar-powered facilities, or water conservation measures. That's becoming more important for travelers.\n",
      "\n",
      "But the most immediate gap seems to be accessibility and practical visitor info. The original text talks about activities but not about how accessible these parks are for all visitors, including those with disabilities or families with young children. So a follow-up question could ask about accessibility features and any entry requirements or reservations needed for popular parks during summer.\n",
      "</think>\n",
      "researching more...\n",
      "web search completed...\n",
      "{'sources_gathered': ['* 9 best London parks and playgrounds to take kids during the summer holidays : https://www.mylondon.news/whats-on/family-kids-news/9-best-london-parks-playgrounds-29649999'], 'research_loop_count': 4, 'web_research_results': [\"Sources:\\n\\nSource: 9 best London parks and playgrounds to take kids during the summer holidays\\n===\\nURL: https://www.mylondon.news/whats-on/family-kids-news/9-best-london-parks-playgrounds-29649999\\n===\\nMost relevant content from source: With the summer holidays well underway, the daunting prospect of occupying bouncy children for a few more weeks looms.. Luckily, there's no shortage of free playgrounds and parks to fill those long summer days. MyLondon has rounded up some of the best across London, from a Peter Pan-themed spot with a 'real' pirate's ship, to another with pedal-powered go-karts to rent.\\n===\"]}\n",
      "summarizing...\n",
      "<think>\n",
      "Okay, let's start by looking at the existing summary about the best parks in London for summer. The summary mentions Hyde Park, the British Summer Time festival, family-friendly spots like the Peter Pan playground, and pedal-powered go-karts. It covers events, some activities, and general family appeal.\n",
      "\n",
      "Now, I need to find a knowledge gap. The summary talks about events and activities but doesn't go into specifics about accessibility or amenities. For example, are there parks with specific facilities like wheelchair access, baby changing stations, or shaded areas? Also, practical info like parking availability, public transport links, or restroom locations isn't covered. These details are crucial for families planning a visit, especially with young children or those with mobility issues. Without this info, visitors might not know which parks best suit their needs. So, a follow-up question should ask about accessibility features and amenities in London's summer parks to fill that gap.\n",
      "</think>\n",
      "research complete...\n",
      "Done Researching...\n",
      "## Summary\n",
      "London boasts a variety of parks perfect for enjoying summer activities, including picnics, tranquil escapes, and lively entertainment. Hyde Park stands out as a central retreat from the urban bustle, hosting vibrant events such as the British Summer Time festival, which features live music and a festive atmosphere during June and July. Its convenient proximity to attractions like Paddington Citi View adds to its appeal, blending nature with lively entertainment for visitors.\n",
      "\n",
      "For families seeking engaging options during the summer holidays, London offers a range of specially designed parks and playgrounds tailored to children, many of which are free. Notable family-friendly locations include the Peter Pan-themed playground, featuring a 'real' pirate ship that sparks imaginative play, as well as sites offering pedal-powered go-karts for rental. These destinations ensure ample options for filling long summer days, combining leisure for adults with interactive fun for children.\n",
      "\n",
      "Among London’s best parks and playgrounds, residents and visitors alike will find spaces perfectly suited for keeping energetic children occupied while enjoying the warm weather. With creative themes and activities designed to enhance the experience, London’s parks remain a top summer choice for both relaxation and memorable family outings.\n",
      "\n",
      "### Sources:\n",
      "* Summer in London 2025: The Ultimate Guide to Events, Parks & Student Life : https://londonist.co.uk/blogs/summer-in-london-2025-the-ultimate-guide-to-events-parks-student-life\n",
      "* 9 best London parks and playgrounds to take kids during the summer holidays : https://www.mylondon.news/whats-on/family-kids-news/9-best-london-parks-playgrounds-29649999\n",
      "* 9 best London parks and playgrounds to take kids during the summer holidays : https://www.mylondon.news/whats-on/family-kids-news/9-best-london-parks-playgrounds-29649999\n",
      "* 9 best London parks and playgrounds to take kids during the summer holidays : https://www.mylondon.news/whats-on/family-kids-news/9-best-london-parks-playgrounds-29649999\n",
      "\n"
     ]
    }
   ],
   "source": [
    "user_input=\"What are the best parks in London for the summer?\"\n",
    "\n",
    "stream_graph_updates(user_input)"
   ]
  }
 ],
 "metadata": {
  "kernelspec": {
   "display_name": "deep_research",
   "language": "python",
   "name": "python3"
  },
  "language_info": {
   "codemirror_mode": {
    "name": "ipython",
    "version": 3
   },
   "file_extension": ".py",
   "mimetype": "text/x-python",
   "name": "python",
   "nbconvert_exporter": "python",
   "pygments_lexer": "ipython3",
   "version": "3.13.2"
  }
 },
 "nbformat": 4,
 "nbformat_minor": 2
}
